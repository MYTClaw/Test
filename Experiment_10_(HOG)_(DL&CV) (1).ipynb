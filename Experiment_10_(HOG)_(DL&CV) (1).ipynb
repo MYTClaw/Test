{
  "nbformat": 4,
  "nbformat_minor": 0,
  "metadata": {
    "colab": {
      "provenance": []
    },
    "kernelspec": {
      "name": "python3",
      "display_name": "Python 3"
    },
    "language_info": {
      "name": "python"
    }
  },
  "cells": [
    {
      "cell_type": "code",
      "execution_count": 11,
      "metadata": {
        "colab": {
          "base_uri": "https://localhost:8080/"
        },
        "id": "1alFA89sI6E3",
        "outputId": "4a2ddab0-4e39-4d34-d2ff-4f627ff31037"
      },
      "outputs": [
        {
          "output_type": "stream",
          "name": "stdout",
          "text": [
            "(3908, 6084) (3908,)\n",
            "(978, 6084) (978,)\n",
            "Accuracy: 0.9652351738241309\n"
          ]
        }
      ],
      "source": [
        "import os\n",
        "import cv2\n",
        "import xml.etree.ElementTree as ET\n",
        "import numpy as np\n",
        "from sklearn.model_selection import train_test_split\n",
        "from sklearn import svm\n",
        "from sklearn.metrics import accuracy_score\n",
        "\n",
        "# Read all XML files\n",
        "path = '/content/drive/MyDrive/BCCD_Dataset'\n",
        "xml_files = [(os.path.join(root, name))\n",
        "    for root, dirs, files in os.walk(path)\n",
        "    for name in files if name.endswith(\".xml\")]\n",
        "\n",
        "# HOG parametrization\n",
        "winSize = (64,64)\n",
        "blockSize = (16,16)\n",
        "blockStride = (4,4)\n",
        "cellSize = (8,8)\n",
        "nbins = 9\n",
        "derivAperture = 1\n",
        "winSigma = -1.\n",
        "histogramNormType = 0\n",
        "L2HysThreshold = 0.2\n",
        "gammaCorrection = 1\n",
        "nlevels = 64\n",
        "useSignedGradients = True\n",
        "\n",
        "hog = cv2.HOGDescriptor(winSize,blockSize,blockStride,cellSize,nbins,derivAperture,winSigma,histogramNormType,L2HysThreshold,gammaCorrection,nlevels, useSignedGradients)\n",
        "\n",
        "# Initialize lists to store features and labels\n",
        "features = []\n",
        "labels = []\n",
        "\n",
        "# Retrieve image patches from XML info and images\n",
        "for t in xml_files:\n",
        "    root = ET.parse(t).getroot()\n",
        "    img_name = root.find('filename').text\n",
        "    img = cv2.imread(os.path.join(path, img_name))\n",
        "\n",
        "    for elem in root.findall('object'):\n",
        "        classes = elem.find('name').text\n",
        "        x1 = int(elem.find('bndbox/xmin').text)\n",
        "        y1 = int(elem.find('bndbox/ymin').text)\n",
        "        x2 = int(elem.find('bndbox/xmax').text)\n",
        "        y2 = int(elem.find('bndbox/ymax').text)\n",
        "\n",
        "        if x2 > x1 and y2 > y1:\n",
        "            if classes == 'RBC':\n",
        "                label = 0\n",
        "            elif classes == 'WBC':\n",
        "                label = 1\n",
        "            elif classes == 'Platelets':\n",
        "                label = 2\n",
        "            else:\n",
        "                continue\n",
        "\n",
        "            cropped_img = img[y1:y2, x1:x2]\n",
        "            resized_img = cv2.resize(cropped_img, winSize)\n",
        "            descriptor = hog.compute(resized_img).flatten()\n",
        "\n",
        "            features.append(descriptor)\n",
        "            labels.append(label)\n",
        "\n",
        "# Convert lists to numpy arrays\n",
        "features = np.array(features, dtype=np.float32)\n",
        "labels = np.array(labels, dtype=np.int64)\n",
        "\n",
        "# Split data for training and testing\n",
        "X_train, X_test, y_train, y_test = train_test_split(features, labels,test_size=0.2, random_state=42)\n",
        "\n",
        "print(X_train.shape, y_train.shape)\n",
        "print(X_test.shape, y_test.shape)\n",
        "\n",
        "# Train SVM classifier\n",
        "clf = svm.SVC()\n",
        "clf.fit(X_train, y_train)\n",
        "\n",
        "# Predict and calculate accuracy\n",
        "y_pred = clf.predict(X_test)\n",
        "print('Accuracy:', accuracy_score(y_test, y_pred))\n"
      ]
    }
  ]
}